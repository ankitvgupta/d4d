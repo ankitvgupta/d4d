{
 "metadata": {
  "name": "",
  "signature": "sha256:c777f4fe07e5022f3003322693f9180b5512f0730c7f8f31c7bb0e1fc15c8cb4"
 },
 "nbformat": 3,
 "nbformat_minor": 0,
 "worksheets": [
  {
   "cells": [
    {
     "cell_type": "markdown",
     "metadata": {},
     "source": [
      "Python is a dynamic, strongly-typed language! What does this mean?"
     ]
    },
    {
     "cell_type": "heading",
     "level": 2,
     "metadata": {},
     "source": [
      "You don't generally have to declare types"
     ]
    },
    {
     "cell_type": "code",
     "collapsed": false,
     "input": [
      "a = 1"
     ],
     "language": "python",
     "metadata": {},
     "outputs": [],
     "prompt_number": 1
    },
    {
     "cell_type": "code",
     "collapsed": false,
     "input": [
      "b = 'hello'"
     ],
     "language": "python",
     "metadata": {},
     "outputs": [],
     "prompt_number": 2
    },
    {
     "cell_type": "code",
     "collapsed": false,
     "input": [
      "c = [1,2,3]"
     ],
     "language": "python",
     "metadata": {},
     "outputs": [],
     "prompt_number": 3
    },
    {
     "cell_type": "heading",
     "level": 2,
     "metadata": {},
     "source": [
      "You can change the type of a variable without declaration"
     ]
    },
    {
     "cell_type": "code",
     "collapsed": false,
     "input": [
      "a = \"hello\"\n",
      "print a"
     ],
     "language": "python",
     "metadata": {},
     "outputs": [
      {
       "output_type": "stream",
       "stream": "stdout",
       "text": [
        "hello\n"
       ]
      }
     ],
     "prompt_number": 51
    },
    {
     "cell_type": "code",
     "collapsed": false,
     "input": [
      "b = [1,2,3,4]"
     ],
     "language": "python",
     "metadata": {},
     "outputs": [],
     "prompt_number": 52
    },
    {
     "cell_type": "code",
     "collapsed": false,
     "input": [
      "c = 3"
     ],
     "language": "python",
     "metadata": {},
     "outputs": [],
     "prompt_number": 53
    },
    {
     "cell_type": "code",
     "collapsed": false,
     "input": [
      "# Concatenate strings using '+' operator\n",
      "a = a + \", it's me.\"\n",
      "print a"
     ],
     "language": "python",
     "metadata": {},
     "outputs": [
      {
       "output_type": "stream",
       "stream": "stdout",
       "text": [
        "hello, it's me.\n"
       ]
      }
     ],
     "prompt_number": 54
    },
    {
     "cell_type": "heading",
     "level": 2,
     "metadata": {},
     "source": [
      "Printing is seamless"
     ]
    },
    {
     "cell_type": "code",
     "collapsed": false,
     "input": [
      "print \"hi\"\n",
      "print a,b,c"
     ],
     "language": "python",
     "metadata": {},
     "outputs": [
      {
       "output_type": "stream",
       "stream": "stdout",
       "text": [
        "hi\n",
        "hello [1, 2, 3, 4] 3\n"
       ]
      }
     ],
     "prompt_number": 44
    },
    {
     "cell_type": "heading",
     "level": 1,
     "metadata": {},
     "source": [
      "Python Operators"
     ]
    },
    {
     "cell_type": "code",
     "collapsed": false,
     "input": [
      "# Addition\n",
      "x = 3+4\n",
      "print x\n",
      "\n",
      "# Subtraction\n",
      "x = 5-2\n",
      "print x\n",
      "\n",
      "# Multiplication\n",
      "x = 3*2\n",
      "print x\n",
      "\n",
      "# Division\n",
      "x = 3/2\n",
      "print x\n",
      "\n",
      "# Modulo\n",
      "x = 17 % 3\n",
      "print x\n",
      "\n",
      "# Comparison\n",
      "print (3 > 4)\n",
      "print (3 >= 3)\n",
      "print (3 < 4)\n",
      "print (3 <= 3)\n",
      "print (3 == 3)\n",
      "print (\"hi\" == \"hi\")"
     ],
     "language": "python",
     "metadata": {},
     "outputs": [
      {
       "output_type": "stream",
       "stream": "stdout",
       "text": [
        "7\n",
        "3\n",
        "6\n",
        "1\n",
        "2\n",
        "False\n",
        "True\n",
        "True\n",
        "True\n",
        "True\n",
        "True\n"
       ]
      }
     ],
     "prompt_number": 30
    },
    {
     "cell_type": "heading",
     "level": 1,
     "metadata": {},
     "source": [
      "Python uses lists, not arrays"
     ]
    },
    {
     "cell_type": "code",
     "collapsed": false,
     "input": [
      "x = [1,2,3,4]"
     ],
     "language": "python",
     "metadata": {},
     "outputs": [],
     "prompt_number": 14
    },
    {
     "cell_type": "code",
     "collapsed": false,
     "input": [
      "x"
     ],
     "language": "python",
     "metadata": {},
     "outputs": [
      {
       "metadata": {},
       "output_type": "pyout",
       "prompt_number": 15,
       "text": [
        "[1, 2, 3, 4]"
       ]
      }
     ],
     "prompt_number": 15
    },
    {
     "cell_type": "code",
     "collapsed": false,
     "input": [
      "# You can append to a list in place using .append()\n",
      "x.append(5)"
     ],
     "language": "python",
     "metadata": {},
     "outputs": [],
     "prompt_number": 16
    },
    {
     "cell_type": "code",
     "collapsed": false,
     "input": [
      "x"
     ],
     "language": "python",
     "metadata": {},
     "outputs": [
      {
       "metadata": {},
       "output_type": "pyout",
       "prompt_number": 17,
       "text": [
        "[1, 2, 3, 4, 5]"
       ]
      }
     ],
     "prompt_number": 17
    },
    {
     "cell_type": "code",
     "collapsed": false,
     "input": [
      "# You can index into a list using bracket notation\n",
      "y = x[2]+ x[3]"
     ],
     "language": "python",
     "metadata": {},
     "outputs": [],
     "prompt_number": 22
    },
    {
     "cell_type": "code",
     "collapsed": false,
     "input": [
      "y"
     ],
     "language": "python",
     "metadata": {},
     "outputs": [
      {
       "metadata": {},
       "output_type": "pyout",
       "prompt_number": 23,
       "text": [
        "7"
       ]
      }
     ],
     "prompt_number": 23
    },
    {
     "cell_type": "heading",
     "level": 1,
     "metadata": {},
     "source": [
      "Loops"
     ]
    },
    {
     "cell_type": "heading",
     "level": 2,
     "metadata": {},
     "source": []
    },
    {
     "cell_type": "code",
     "collapsed": false,
     "input": [
      "for i in range(5):\n",
      "    print i"
     ],
     "language": "python",
     "metadata": {},
     "outputs": [
      {
       "output_type": "stream",
       "stream": "stdout",
       "text": [
        "0\n",
        "1\n",
        "2\n",
        "3\n",
        "4\n"
       ]
      }
     ],
     "prompt_number": 32
    },
    {
     "cell_type": "code",
     "collapsed": false,
     "input": [
      "i = 0\n",
      "while i < 5:\n",
      "    print i\n",
      "    i += 1"
     ],
     "language": "python",
     "metadata": {},
     "outputs": [
      {
       "output_type": "stream",
       "stream": "stdout",
       "text": [
        "0\n",
        "1\n",
        "2\n",
        "3\n",
        "4\n"
       ]
      }
     ],
     "prompt_number": 31
    },
    {
     "cell_type": "heading",
     "level": 1,
     "metadata": {},
     "source": [
      "Iterables"
     ]
    },
    {
     "cell_type": "heading",
     "level": 3,
     "metadata": {},
     "source": [
      "Generally, you can loop over any iterable"
     ]
    },
    {
     "cell_type": "code",
     "collapsed": false,
     "input": [
      "for i in xrange(1,3):\n",
      "    print i"
     ],
     "language": "python",
     "metadata": {},
     "outputs": [
      {
       "output_type": "stream",
       "stream": "stdout",
       "text": [
        "1\n",
        "2\n"
       ]
      }
     ],
     "prompt_number": 33
    },
    {
     "cell_type": "code",
     "collapsed": false,
     "input": [
      "print range(1,3)"
     ],
     "language": "python",
     "metadata": {},
     "outputs": [
      {
       "output_type": "stream",
       "stream": "stdout",
       "text": [
        "[1, 2]\n"
       ]
      }
     ],
     "prompt_number": 37
    },
    {
     "cell_type": "code",
     "collapsed": false,
     "input": [
      "print xrange(1,3), type(xrange(1,3))"
     ],
     "language": "python",
     "metadata": {},
     "outputs": [
      {
       "output_type": "stream",
       "stream": "stdout",
       "text": [
        "xrange(1, 3) <type 'xrange'>\n"
       ]
      }
     ],
     "prompt_number": 40
    },
    {
     "cell_type": "heading",
     "level": 1,
     "metadata": {},
     "source": [
      "Functions"
     ]
    },
    {
     "cell_type": "heading",
     "level": 2,
     "metadata": {},
     "source": [
      "Functions can take multiple arguments, and return multiple values"
     ]
    },
    {
     "cell_type": "code",
     "collapsed": false,
     "input": [
      "def add1(x):\n",
      "    return x + 1"
     ],
     "language": "python",
     "metadata": {},
     "outputs": []
    },
    {
     "cell_type": "code",
     "collapsed": false,
     "input": [
      "def sum2nums(x,y):\n",
      "    z = x + y\n",
      "    return z\n",
      "\n",
      "def sum2nums_short(x,y):\n",
      "    return x + y\n",
      "\n",
      "def div_mod(x,y):\n",
      "    return x/y, x%y"
     ],
     "language": "python",
     "metadata": {},
     "outputs": [],
     "prompt_number": 66
    },
    {
     "cell_type": "code",
     "collapsed": false,
     "input": [
      "print sum2nums(5,4)\n",
      "print sum2nums_short(5,4)\n",
      "print div_mod(5,4)\n",
      "\n",
      "# You can unpack multiple return avlues like this!\n",
      "a,b = div_mod(10,3)\n",
      "print a\n",
      "print b"
     ],
     "language": "python",
     "metadata": {},
     "outputs": [
      {
       "output_type": "stream",
       "stream": "stdout",
       "text": [
        "9\n",
        "9\n",
        "(1, 1)\n",
        "3\n",
        "1\n"
       ]
      }
     ],
     "prompt_number": 69
    },
    {
     "cell_type": "heading",
     "level": 1,
     "metadata": {},
     "source": [
      "Numpy"
     ]
    },
    {
     "cell_type": "markdown",
     "metadata": {},
     "source": [
      "Numpy is a ubiquitously used Python library for scientific computing. You will soon start writing \"import numpy as np\" in the first line of your file without thinking twice"
     ]
    },
    {
     "cell_type": "code",
     "collapsed": false,
     "input": [
      "import numpy as np"
     ],
     "language": "python",
     "metadata": {},
     "outputs": [],
     "prompt_number": 55
    },
    {
     "cell_type": "heading",
     "level": 2,
     "metadata": {},
     "source": [
      "Numpy has arrays"
     ]
    },
    {
     "cell_type": "code",
     "collapsed": false,
     "input": [
      "x = np.array([[1,2,3],[4,5,6]])\n",
      "print x"
     ],
     "language": "python",
     "metadata": {},
     "outputs": [
      {
       "output_type": "stream",
       "stream": "stdout",
       "text": [
        "[[1 2 3]\n",
        " [4 5 6]]\n"
       ]
      }
     ],
     "prompt_number": 58
    },
    {
     "cell_type": "code",
     "collapsed": false,
     "input": [
      "# Create random array of size 3x4\n",
      "x = np.random.randn(3,4)\n",
      "print x\n",
      "\n",
      "# Create array of zeros of size 3x4\n",
      "x = np.zeros((3,4))\n",
      "print x\n",
      "\n",
      "# Create array of ones of size 3x4\n",
      "x = np.ones((3,4))\n",
      "print x"
     ],
     "language": "python",
     "metadata": {},
     "outputs": [
      {
       "output_type": "stream",
       "stream": "stdout",
       "text": [
        "[[-0.21695605  2.25397855 -2.78152089 -0.84069171]\n",
        " [ 1.11632332 -0.96668363  0.94929311 -0.35905324]\n",
        " [-2.37476426 -1.36627196  1.26352527 -0.87091004]]\n",
        "[[ 0.  0.  0.  0.]\n",
        " [ 0.  0.  0.  0.]\n",
        " [ 0.  0.  0.  0.]]\n",
        "[[ 1.  1.  1.  1.]\n",
        " [ 1.  1.  1.  1.]\n",
        " [ 1.  1.  1.  1.]]\n"
       ]
      }
     ],
     "prompt_number": 65
    },
    {
     "cell_type": "heading",
     "level": 2,
     "metadata": {},
     "source": [
      "Matrix Multiplcation"
     ]
    },
    {
     "cell_type": "code",
     "collapsed": false,
     "input": [
      "x = np.random.randn(3,4)\n",
      "y = np.random.randn(4,7)\n",
      "z = x.dot(y)\n",
      "print z"
     ],
     "language": "python",
     "metadata": {},
     "outputs": [
      {
       "output_type": "stream",
       "stream": "stdout",
       "text": [
        "[[ -0.33233642   0.29736854  -0.09086959  -0.52673497  -0.30855759\n",
        "   -0.52345736   0.15788057]\n",
        " [ -6.56876384   1.84430471 -10.59968748  -3.04155614  -2.00225552\n",
        "   -7.81105986   2.39695272]\n",
        " [  3.84718954  -2.51869641   1.139133     1.38143      4.76407064\n",
        "    2.5148557   -0.13015001]]\n"
       ]
      }
     ],
     "prompt_number": 72
    },
    {
     "cell_type": "code",
     "collapsed": false,
     "input": [
      "print z.shape"
     ],
     "language": "python",
     "metadata": {},
     "outputs": [
      {
       "output_type": "stream",
       "stream": "stdout",
       "text": [
        "(3, 7)\n"
       ]
      }
     ],
     "prompt_number": 73
    },
    {
     "cell_type": "code",
     "collapsed": false,
     "input": [],
     "language": "python",
     "metadata": {},
     "outputs": []
    },
    {
     "cell_type": "heading",
     "level": 4,
     "metadata": {},
     "source": [
      "There are tons more things that numpy can do (often with other libraries as well), and you should explore all of them!"
     ]
    },
    {
     "cell_type": "code",
     "collapsed": false,
     "input": [
      "x = np.array([1,2,3,4])\n",
      "print \"x: \", x\n",
      "\n",
      "# Log of an array\n",
      "print \"log(x): \", np.log(x)\n",
      "\n",
      "# exp of an array\n",
      "print \"exp(x): \", np.exp(x)\n",
      "\n",
      "# raise array to power\n",
      "print \"x^3: \", np.power(x, 3) \n"
     ],
     "language": "python",
     "metadata": {},
     "outputs": [
      {
       "output_type": "stream",
       "stream": "stdout",
       "text": [
        "x:  [1 2 3 4]\n",
        "log(x):  [ 0.          0.69314718  1.09861229  1.38629436]\n",
        "exp(x):  [  2.71828183   7.3890561   20.08553692  54.59815003]\n",
        "x^3:  [ 1  8 27 64]\n"
       ]
      }
     ],
     "prompt_number": 78
    },
    {
     "cell_type": "code",
     "collapsed": false,
     "input": [],
     "language": "python",
     "metadata": {},
     "outputs": []
    },
    {
     "cell_type": "heading",
     "level": 1,
     "metadata": {},
     "source": [
      "Objects"
     ]
    },
    {
     "cell_type": "code",
     "collapsed": false,
     "input": [
      "class MyObject:\n",
      "    def  __init__(self, x, y, eta):\n",
      "        self.x = x\n",
      "        self.y = y\n",
      "        self.eta = eta\n",
      "    def update_eta(self, new_eta):\n",
      "        self.eta = new_eta\n",
      "    \n",
      "    def print_all(self):\n",
      "        print self.x, self.y, self.eta\n",
      "\n",
      "obj = MyObject(1,2,3)\n",
      "obj.print_all()\n",
      "obj.update_eta(4)\n",
      "obj.print_all()\n",
      "    "
     ],
     "language": "python",
     "metadata": {},
     "outputs": [
      {
       "output_type": "stream",
       "stream": "stdout",
       "text": [
        "1 2 3\n",
        "1 2 4\n"
       ]
      }
     ],
     "prompt_number": 74
    },
    {
     "cell_type": "heading",
     "level": 1,
     "metadata": {},
     "source": [
      "A taste of real-world Python usage: Machine Learning"
     ]
    },
    {
     "cell_type": "code",
     "collapsed": false,
     "input": [
      "# This imports a widely used machine learning library called scikit-learn\n",
      "from sklearn import datasets\n",
      "from sklearn.naive_bayes import GaussianNB\n",
      "\n",
      "# This imports the Gaussian Naive Bayes classifier, a very simple machine learning model\n",
      "gnb = GaussianNB()\n",
      "\n",
      "# This loads the iris dataset, which is a simple dataset for classification\n",
      "iris = datasets.load_iris()\n",
      "\n",
      "# Let's find the size of the dataset\n",
      "size_x, size_y = iris.data.shape\n",
      "\n",
      "# Here is what it looks like\n",
      "print iris.data\n"
     ],
     "language": "python",
     "metadata": {},
     "outputs": [
      {
       "output_type": "stream",
       "stream": "stdout",
       "text": [
        "[[ 5.1  3.5  1.4  0.2]\n",
        " [ 4.9  3.   1.4  0.2]\n",
        " [ 4.7  3.2  1.3  0.2]\n",
        " [ 4.6  3.1  1.5  0.2]\n",
        " [ 5.   3.6  1.4  0.2]\n",
        " [ 5.4  3.9  1.7  0.4]\n",
        " [ 4.6  3.4  1.4  0.3]\n",
        " [ 5.   3.4  1.5  0.2]\n",
        " [ 4.4  2.9  1.4  0.2]\n",
        " [ 4.9  3.1  1.5  0.1]\n",
        " [ 5.4  3.7  1.5  0.2]\n",
        " [ 4.8  3.4  1.6  0.2]\n",
        " [ 4.8  3.   1.4  0.1]\n",
        " [ 4.3  3.   1.1  0.1]\n",
        " [ 5.8  4.   1.2  0.2]\n",
        " [ 5.7  4.4  1.5  0.4]\n",
        " [ 5.4  3.9  1.3  0.4]\n",
        " [ 5.1  3.5  1.4  0.3]\n",
        " [ 5.7  3.8  1.7  0.3]\n",
        " [ 5.1  3.8  1.5  0.3]\n",
        " [ 5.4  3.4  1.7  0.2]\n",
        " [ 5.1  3.7  1.5  0.4]\n",
        " [ 4.6  3.6  1.   0.2]\n",
        " [ 5.1  3.3  1.7  0.5]\n",
        " [ 4.8  3.4  1.9  0.2]\n",
        " [ 5.   3.   1.6  0.2]\n",
        " [ 5.   3.4  1.6  0.4]\n",
        " [ 5.2  3.5  1.5  0.2]\n",
        " [ 5.2  3.4  1.4  0.2]\n",
        " [ 4.7  3.2  1.6  0.2]\n",
        " [ 4.8  3.1  1.6  0.2]\n",
        " [ 5.4  3.4  1.5  0.4]\n",
        " [ 5.2  4.1  1.5  0.1]\n",
        " [ 5.5  4.2  1.4  0.2]\n",
        " [ 4.9  3.1  1.5  0.1]\n",
        " [ 5.   3.2  1.2  0.2]\n",
        " [ 5.5  3.5  1.3  0.2]\n",
        " [ 4.9  3.1  1.5  0.1]\n",
        " [ 4.4  3.   1.3  0.2]\n",
        " [ 5.1  3.4  1.5  0.2]\n",
        " [ 5.   3.5  1.3  0.3]\n",
        " [ 4.5  2.3  1.3  0.3]\n",
        " [ 4.4  3.2  1.3  0.2]\n",
        " [ 5.   3.5  1.6  0.6]\n",
        " [ 5.1  3.8  1.9  0.4]\n",
        " [ 4.8  3.   1.4  0.3]\n",
        " [ 5.1  3.8  1.6  0.2]\n",
        " [ 4.6  3.2  1.4  0.2]\n",
        " [ 5.3  3.7  1.5  0.2]\n",
        " [ 5.   3.3  1.4  0.2]\n",
        " [ 7.   3.2  4.7  1.4]\n",
        " [ 6.4  3.2  4.5  1.5]\n",
        " [ 6.9  3.1  4.9  1.5]\n",
        " [ 5.5  2.3  4.   1.3]\n",
        " [ 6.5  2.8  4.6  1.5]\n",
        " [ 5.7  2.8  4.5  1.3]\n",
        " [ 6.3  3.3  4.7  1.6]\n",
        " [ 4.9  2.4  3.3  1. ]\n",
        " [ 6.6  2.9  4.6  1.3]\n",
        " [ 5.2  2.7  3.9  1.4]\n",
        " [ 5.   2.   3.5  1. ]\n",
        " [ 5.9  3.   4.2  1.5]\n",
        " [ 6.   2.2  4.   1. ]\n",
        " [ 6.1  2.9  4.7  1.4]\n",
        " [ 5.6  2.9  3.6  1.3]\n",
        " [ 6.7  3.1  4.4  1.4]\n",
        " [ 5.6  3.   4.5  1.5]\n",
        " [ 5.8  2.7  4.1  1. ]\n",
        " [ 6.2  2.2  4.5  1.5]\n",
        " [ 5.6  2.5  3.9  1.1]\n",
        " [ 5.9  3.2  4.8  1.8]\n",
        " [ 6.1  2.8  4.   1.3]\n",
        " [ 6.3  2.5  4.9  1.5]\n",
        " [ 6.1  2.8  4.7  1.2]\n",
        " [ 6.4  2.9  4.3  1.3]\n",
        " [ 6.6  3.   4.4  1.4]\n",
        " [ 6.8  2.8  4.8  1.4]\n",
        " [ 6.7  3.   5.   1.7]\n",
        " [ 6.   2.9  4.5  1.5]\n",
        " [ 5.7  2.6  3.5  1. ]\n",
        " [ 5.5  2.4  3.8  1.1]\n",
        " [ 5.5  2.4  3.7  1. ]\n",
        " [ 5.8  2.7  3.9  1.2]\n",
        " [ 6.   2.7  5.1  1.6]\n",
        " [ 5.4  3.   4.5  1.5]\n",
        " [ 6.   3.4  4.5  1.6]\n",
        " [ 6.7  3.1  4.7  1.5]\n",
        " [ 6.3  2.3  4.4  1.3]\n",
        " [ 5.6  3.   4.1  1.3]\n",
        " [ 5.5  2.5  4.   1.3]\n",
        " [ 5.5  2.6  4.4  1.2]\n",
        " [ 6.1  3.   4.6  1.4]\n",
        " [ 5.8  2.6  4.   1.2]\n",
        " [ 5.   2.3  3.3  1. ]\n",
        " [ 5.6  2.7  4.2  1.3]\n",
        " [ 5.7  3.   4.2  1.2]\n",
        " [ 5.7  2.9  4.2  1.3]\n",
        " [ 6.2  2.9  4.3  1.3]\n",
        " [ 5.1  2.5  3.   1.1]\n",
        " [ 5.7  2.8  4.1  1.3]\n",
        " [ 6.3  3.3  6.   2.5]\n",
        " [ 5.8  2.7  5.1  1.9]\n",
        " [ 7.1  3.   5.9  2.1]\n",
        " [ 6.3  2.9  5.6  1.8]\n",
        " [ 6.5  3.   5.8  2.2]\n",
        " [ 7.6  3.   6.6  2.1]\n",
        " [ 4.9  2.5  4.5  1.7]\n",
        " [ 7.3  2.9  6.3  1.8]\n",
        " [ 6.7  2.5  5.8  1.8]\n",
        " [ 7.2  3.6  6.1  2.5]\n",
        " [ 6.5  3.2  5.1  2. ]\n",
        " [ 6.4  2.7  5.3  1.9]\n",
        " [ 6.8  3.   5.5  2.1]\n",
        " [ 5.7  2.5  5.   2. ]\n",
        " [ 5.8  2.8  5.1  2.4]\n",
        " [ 6.4  3.2  5.3  2.3]\n",
        " [ 6.5  3.   5.5  1.8]\n",
        " [ 7.7  3.8  6.7  2.2]\n",
        " [ 7.7  2.6  6.9  2.3]\n",
        " [ 6.   2.2  5.   1.5]\n",
        " [ 6.9  3.2  5.7  2.3]\n",
        " [ 5.6  2.8  4.9  2. ]\n",
        " [ 7.7  2.8  6.7  2. ]\n",
        " [ 6.3  2.7  4.9  1.8]\n",
        " [ 6.7  3.3  5.7  2.1]\n",
        " [ 7.2  3.2  6.   1.8]\n",
        " [ 6.2  2.8  4.8  1.8]\n",
        " [ 6.1  3.   4.9  1.8]\n",
        " [ 6.4  2.8  5.6  2.1]\n",
        " [ 7.2  3.   5.8  1.6]\n",
        " [ 7.4  2.8  6.1  1.9]\n",
        " [ 7.9  3.8  6.4  2. ]\n",
        " [ 6.4  2.8  5.6  2.2]\n",
        " [ 6.3  2.8  5.1  1.5]\n",
        " [ 6.1  2.6  5.6  1.4]\n",
        " [ 7.7  3.   6.1  2.3]\n",
        " [ 6.3  3.4  5.6  2.4]\n",
        " [ 6.4  3.1  5.5  1.8]\n",
        " [ 6.   3.   4.8  1.8]\n",
        " [ 6.9  3.1  5.4  2.1]\n",
        " [ 6.7  3.1  5.6  2.4]\n",
        " [ 6.9  3.1  5.1  2.3]\n",
        " [ 5.8  2.7  5.1  1.9]\n",
        " [ 6.8  3.2  5.9  2.3]\n",
        " [ 6.7  3.3  5.7  2.5]\n",
        " [ 6.7  3.   5.2  2.3]\n",
        " [ 6.3  2.5  5.   1.9]\n",
        " [ 6.5  3.   5.2  2. ]\n",
        " [ 6.2  3.4  5.4  2.3]\n",
        " [ 5.9  3.   5.1  1.8]]\n"
       ]
      }
     ],
     "prompt_number": 88
    },
    {
     "cell_type": "code",
     "collapsed": false,
     "input": [],
     "language": "python",
     "metadata": {},
     "outputs": [],
     "prompt_number": 91
    },
    {
     "cell_type": "code",
     "collapsed": false,
     "input": [
      "# Now, let's grab the first 70 percent of the datapoints for training\n",
      "training_inputs = iris.data[:.7*size_x, :]\n",
      "training_outputs = iris.target[:.7*size_x]\n",
      "print training_inputs.shape, training_outputs.shape\n",
      "\n",
      "# and the last 30 percent for testing\n",
      "testing_inputs = iris.data[.7*size_x:, :]\n",
      "testing_outputs = iris.target[.7*size_x:]\n",
      "print testing_inputs.shape, testing_outputs.shape"
     ],
     "language": "python",
     "metadata": {},
     "outputs": [
      {
       "output_type": "stream",
       "stream": "stdout",
       "text": [
        "(105, 4) (105,)\n",
        "(45, 4) (45,)\n"
       ]
      }
     ],
     "prompt_number": 96
    },
    {
     "cell_type": "code",
     "collapsed": false,
     "input": [
      "# Now we can train the classifier\n",
      "gnb.fit(training_inputs, training_outputs)\n",
      "\n",
      "# And now we can make predictions\n",
      "predictions = gnb.predict(testing_inputs)\n",
      "\n",
      "# And now we can compare the predictions with the actuals\n",
      "num_wrong = np.sum(predictions != testing_outputs)\n",
      "\n",
      "print \"Out of \", testing_outputs.shape[0], \"samples, we got \", num_wrong, \"wrong.\""
     ],
     "language": "python",
     "metadata": {},
     "outputs": [
      {
       "output_type": "stream",
       "stream": "stdout",
       "text": [
        "Out of  45 samples, we got  10 wrong.\n"
       ]
      }
     ],
     "prompt_number": 99
    },
    {
     "cell_type": "code",
     "collapsed": false,
     "input": [],
     "language": "python",
     "metadata": {},
     "outputs": [],
     "prompt_number": 99
    },
    {
     "cell_type": "code",
     "collapsed": false,
     "input": [],
     "language": "python",
     "metadata": {},
     "outputs": []
    }
   ],
   "metadata": {}
  }
 ]
}